{
 "cells": [
  {
   "cell_type": "code",
   "execution_count": null,
   "metadata": {},
   "outputs": [],
   "source": [
    "from py2neo import Graph, Node, Relationship"
   ]
  },
  {
   "cell_type": "code",
   "execution_count": null,
   "metadata": {},
   "outputs": [],
   "source": [
    "graph = Graph()\n",
    "\n",
    "graph.delete_all()"
   ]
  },
  {
   "cell_type": "code",
   "execution_count": null,
   "metadata": {},
   "outputs": [],
   "source": [
    "e = {\n",
    "    'n': Node('Person', name='Nicole', age=24),\n",
    "    'd': Node('Person', name='Drew', age=20),\n",
    "\n",
    "    'm': Node('Drink', name='Mountain Dew', calories=9000),\n",
    "    'z': Node('Drink', name='Coke Zero', calories=1000),\n",
    "    'w': Node('Drink', name='Water', calories=0),\n",
    "\n",
    "    'c': Node('Manufacturer', name='Coca Cola'),\n",
    "    'p': Node('Manufacturer', name='Pepsi')\n",
    "}\n",
    "\n",
    "for k, v in e.items():\n",
    "    graph.create(v)"
   ]
  },
  {
   "cell_type": "code",
   "execution_count": null,
   "metadata": {},
   "outputs": [],
   "source": [
    "r = {\n",
    "    'a': Relationship(e['n'], 'KNOWS', e['d']),\n",
    "    'b': Relationship(e['p'], 'MAKES', e['m']),\n",
    "    'c': Relationship(e['c'], 'MAKES', e['z']),\n",
    "    'd': Relationship(e['c'], 'COMPETES WITH', e['p']),\n",
    "    'e': Relationship(e['n'], 'DRINKS', e['w']),\n",
    "    'f': Relationship(e['d'], 'DRINKS', e['z']),\n",
    "    'g': Relationship(e['n'], 'LOBBIES AGAINST', e['p']),\n",
    "    'h': Relationship(e['n'], 'LOBBIES AGAINST', e['c'])\n",
    "}\n",
    "\n",
    "for k, v in r.items():\n",
    "    graph.create(v)"
   ]
  }
 ],
 "metadata": {
  "kernelspec": {
   "display_name": "Python 3",
   "language": "python",
   "name": "python3"
  },
  "language_info": {
   "codemirror_mode": {
    "name": "ipython",
    "version": 3
   },
   "file_extension": ".py",
   "mimetype": "text/x-python",
   "name": "python",
   "nbconvert_exporter": "python",
   "pygments_lexer": "ipython3",
   "version": "3.6.4"
  }
 },
 "nbformat": 4,
 "nbformat_minor": 2
}
